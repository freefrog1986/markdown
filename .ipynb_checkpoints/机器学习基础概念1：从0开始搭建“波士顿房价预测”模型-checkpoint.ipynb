{
 "cells": [
  {
   "cell_type": "markdown",
   "metadata": {},
   "source": [
    "# 机器学习基础概念1：从0开始搭建“波士顿房价预测”模型"
   ]
  },
  {
   "cell_type": "markdown",
   "metadata": {},
   "source": [
    "## **项目摘要**   \n",
    "在此项目中，我们通过在“波士顿郊区房屋”数据集进行训练和测试机器学习模型，进而评估该模型的性能和预测能力。通过该数据集得到的模型可以用于评估一个房屋的合理价格，对于在日常工作中使用此类信息的职业，例如房产经纪人，搭建并应用此模型的价值是显而易见的。   \n",
    "“波士顿郊区房屋”数据集来自于UCI Machine Learning Repository，该数据收集于1978年，共506条来自波士顿郊区的各类房屋的数据，数据集共包含14个相关特征。   \n",
    "本文的结构包含四部分：数据探索，开发模型，分析模型，评估模型。第一步，通过探索数据得到数据的重要特征和统计信息。第二步，我们将数据划分为训练集和测试集，并设定合适的性能指标。第三步，通过改变参数值和训练集的大小分析算法的性能，这将用于帮助我们选择泛化行较好的最优模型。第四步，通过在真实数据上应用我们的模型来评估表现。   \n",
    "本项目来自于[Udacity的机器学习纳米基石学位](https://cn.udacity.com/mlnd)。"
   ]
  },
  {
   "cell_type": "markdown",
   "metadata": {},
   "source": [
    "## 准备工作"
   ]
  },
  {
   "cell_type": "markdown",
   "metadata": {},
   "source": [
    "数据集来源：[UCI Machine Learning Repository](http://archive.ics.uci.edu/ml/index.php)   \n",
    "数据集简介：该数据收集于1978年，共506条来自波士顿郊区的各类房屋的数据，数据集共包含14个相关特征。   \n",
    "为了使数据集适合本项目使用，对其进行了以下预处理：\n",
    "- 16组数据包含'MEDV'特征值为50。这些数据很有可能包含缺失值或被删减的值，因此被移除。\n",
    "- 1组数据包含'RM'特征值为8.78。该数据可以被看做是奇异值，被移除。\n",
    "- 以下特征值'RM', 'LSTAT', 'PTRATIO'和'MEDV'是必要的. 其他的非相关的特征值被移除。\n",
    "- 特征值'MEDV'根据35年来的市场通货膨胀进行了缩放。"
   ]
  },
  {
   "cell_type": "code",
   "execution_count": null,
   "metadata": {
    "collapsed": true
   },
   "outputs": [],
   "source": []
  }
 ],
 "metadata": {
  "kernelspec": {
   "display_name": "Python 3",
   "language": "python",
   "name": "python3"
  },
  "language_info": {
   "codemirror_mode": {
    "name": "ipython",
    "version": 3
   },
   "file_extension": ".py",
   "mimetype": "text/x-python",
   "name": "python",
   "nbconvert_exporter": "python",
   "pygments_lexer": "ipython3",
   "version": "3.6.1"
  }
 },
 "nbformat": 4,
 "nbformat_minor": 2
}
